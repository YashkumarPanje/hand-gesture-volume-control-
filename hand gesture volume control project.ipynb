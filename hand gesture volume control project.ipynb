{
 "cells": [
  {
   "cell_type": "markdown",
   "id": "bad525ec",
   "metadata": {},
   "source": [
    "# Hand Gesture Volume Control"
   ]
  },
  {
   "cell_type": "code",
   "execution_count": null,
   "id": "9c431a77",
   "metadata": {},
   "outputs": [
    {
     "name": "stdout",
     "output_type": "stream",
     "text": [
      "min -63.5\n",
      "max 0.0\n"
     ]
    }
   ],
   "source": [
    "import cv2\n",
    "import numpy as np\n",
    "import mediapipe as mp   # pip install mediapipe\n",
    "from math import hypot\n",
    "\n",
    "from ctypes import cast,POINTER\n",
    "from comtypes import CLSCTX_ALL\n",
    "from pycaw.pycaw import AudioUtilities, IAudioEndpointVolume\n",
    "devices = AudioUtilities.GetSpeakers()\n",
    "interface=devices.Activate(\n",
    "    IAudioEndpointVolume._iid_, CLSCTX_ALL,None)\n",
    "volume=cast(interface,POINTER(IAudioEndpointVolume))\n",
    "\n",
    "\n",
    "min_vol,max_vol=volume.GetVolumeRange()[:2]\n",
    "\n",
    "print(\"min\",min_vol)\n",
    "print(\"max\",max_vol)\n",
    "mpHands=mp.solutions.hands\n",
    "hands=mpHands.Hands()\n",
    "mpDraw= mp.solutions.drawing_utils\n",
    "\n",
    "cap=cv2.VideoCapture(0)\n",
    "\n",
    "while True:\n",
    "    success,img=cap.read()\n",
    "    \n",
    "    imgRGB=cv2.cvtColor(img,cv2.COLOR_BGR2RGB)\n",
    "    results= hands.process(imgRGB)\n",
    "    \n",
    "    lmList= []\n",
    "    if results.multi_hand_landmarks:\n",
    "        for handlandmark in results.multi_hand_landmarks:\n",
    "            for id,lm in enumerate(handlandmark.landmark):\n",
    "                \n",
    "                \n",
    "                h,w,_= img.shape\n",
    "                cx,cy= int(lm.x*w),int(lm.y*h)\n",
    "                lmList.append([id,cx,cy])\n",
    "                mpDraw.draw_landmarks(img,handlandmark,mpHands.HAND_CONNECTIONS)\n",
    "                \n",
    "    if lmList !=[]:\n",
    "        x1,y1= lmList[4][1],lmList[4][2]\n",
    "        x2,y2= lmList[8][1],lmList[8][2]\n",
    "        \n",
    "        cv2.circle(img,(x1,y1),4,(255,0,0),cv2.FILLED)\n",
    "        cv2.circle(img,(x1,y1),4,(255,0,0),cv2.FILLED)\n",
    "        cv2.line(img,(x1,y1),(x2,y2),(255,0,0),3)\n",
    "         \n",
    "        length= hypot(x2-x1,y2-y1)\n",
    "        \n",
    "        vol=np.interp(length,[25,300],[min_vol,max_vol])     # min distance=25 & max distance=300\n",
    "        \n",
    "        volume.SetMasterVolumeLevel(vol, None)\n",
    "        \n",
    "    \n",
    "    cv2.imshow('Image',img)\n",
    "    if cv2.waitKey(1) & 0xff==ord('q'):\n",
    "        break\n",
    "        \n",
    "cap.release()\n",
    "cv2.destroyAllWindows()\n",
    "\n"
   ]
  },
  {
   "cell_type": "code",
   "execution_count": null,
   "id": "f949e943",
   "metadata": {},
   "outputs": [],
   "source": []
  }
 ],
 "metadata": {
  "kernelspec": {
   "display_name": "Python 3 (ipykernel)",
   "language": "python",
   "name": "python3"
  },
  "language_info": {
   "codemirror_mode": {
    "name": "ipython",
    "version": 3
   },
   "file_extension": ".py",
   "mimetype": "text/x-python",
   "name": "python",
   "nbconvert_exporter": "python",
   "pygments_lexer": "ipython3",
   "version": "3.10.5"
  }
 },
 "nbformat": 4,
 "nbformat_minor": 5
}
